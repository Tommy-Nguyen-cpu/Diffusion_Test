{
  "nbformat": 4,
  "nbformat_minor": 0,
  "metadata": {
    "colab": {
      "provenance": [],
      "gpuType": "T4",
      "collapsed_sections": [
      ]
    },
    "kernelspec": {
      "name": "python3",
      "display_name": "Python 3"
    },
    "language_info": {
      "name": "python"
    },
    "accelerator": "GPU"
  },
  "cells": [
    {
      "cell_type": "markdown",
      "metadata": {},
      "source": [
        "# Instructions\n",
        "## Running demo\n",
        "1. Select `Runtime` from the menu bar.\n",
        "2. In the dropdown menu, select `Run all`."
      ]
    },
    {
      "cell_type": "code",
      "execution_count": null,
      "metadata": {},
      "outputs": [],
      "source": [
        "!git clone -b demo https://github.com/akameswa/DiffusionDemo\n",
        "!pip install -r DiffusionDemo/requirements.txt -q \n",
        "!python DiffusionDemo/run.py"
      ]
    },
    {
      "cell_type": "markdown",
      "metadata": {},
      "source": [
        "## Viewing demo\n",
        "After running the code, wait for few minutes to see the gradio link (example: `https://a9691b8cc2d0fba1db.gradio.live/`) and click on it."
      ]
    }
  ]
}
