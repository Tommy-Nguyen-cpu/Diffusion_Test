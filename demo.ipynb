{
 "cells": [
  {
   "cell_type": "markdown",
   "metadata": {},
   "source": [
    "# Instructions\n",
    "## Setting GPU\n",
    "\n",
    "Follow these steps to change the runtime type and hardware accelerator:\n",
    "\n",
    "1. Select `Runtime` from the menu bar.\n",
    "2. If you are unable to see the menu bar, click on the `V` icon located on the top right corner of the notebook.\n",
    "3. In the dropdown menu, select `Change runtime type`.\n",
    "4. A pop-up window will appear. Under `Runtime type`, select `Python 3`.\n",
    "5. Under `Hardware accelerator`, select `T4 GPU`.\n",
    "6. Click `Save`.\n",
    "\n",
    "## Connecting to runtime\n",
    "After setting GPU, connect to the runtime:\n",
    "\n",
    "1. On the top right corner of the notebook, click the `Connect` button. Wait for the button to change to `Connected`.\n",
    "\n",
    "## Running demo\n",
    "After connecting to the runtime, run the demo:\n",
    "\n",
    "1. Select `Runtime` from the menu bar.\n",
    "2. In the dropdown menu, select `Run all`."
   ]
  },
  {
   "cell_type": "code",
   "execution_count": null,
   "metadata": {},
   "outputs": [],
   "source": [
    "!git clone https://github.com/akameswa/DiffusionDemo\n",
    "!pip install -r DiffusionDemo/requirements.txt -q \n",
    "!python DiffusionDemo/run.py"
   ]
  },
  {
   "cell_type": "markdown",
   "metadata": {},
   "source": [
    "## Viewing demo\n",
    "After running the code, wait for few minutes to see the gradio link (example: `https://a9691b8cc2d0fba1db.gradio.live/`) and follow the below steps.\n",
    "\n",
    "1. Click the `gradio.live` link. This will take you to the demo in a new browser tab.\n",
    "2. [Chrome Users] Click on the `View Site Information` icon near the URL.\n",
    "3. [Chrome Users] Click on `Site Settings`.\n",
    "4. [Chrome Users] Scroll down to the `Insecure content` section.\n",
    "5. [Chrome Users] Change the setting to `Allow`.\n",
    "6. [Chrome Users] Reload the page to apply the changes."
   ]
  }
 ],
 "metadata": {
  "language_info": {
   "name": "python"
  }
 },
 "nbformat": 4,
 "nbformat_minor": 2
}
