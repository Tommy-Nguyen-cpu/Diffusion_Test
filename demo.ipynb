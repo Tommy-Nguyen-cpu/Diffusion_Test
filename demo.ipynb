{
 "cells": [
  {
   "cell_type": "markdown",
   "metadata": {},
   "source": [
    "# Instructions\n",
    "## Setting GPU\n",
    "\n",
    "Follow these steps to change the runtime type and hardware accelerator:\n",
    "\n",
    "1. Select `Runtime` from the menu bar.\n",
    "2. If you are unable to see the menu bar, click on the `V` icon located on the top right corner of the notebook.\n",
    "3. In the dropdown menu, select `Change runtime type`.\n",
    "4. A pop-up window will appear. Under `Runtime type`, select `Python 3`.\n",
    "5. Under `Hardware accelerator`, select `T4 GPU`.\n",
    "6. Click `Save`.\n",
    "\n",
    "## Connecting to runtime\n",
    "After setting GPU, connect to the runtime:\n",
    "\n",
    "1. On the top right corner of the notebook, click the `Connect` button. Wait for the button to change to `Connected`.\n",
    "\n",
    "## Running demo\n",
    "After connecting to the runtime, run the demo:\n",
    "\n",
    "1. Select `Runtime` from the menu bar.\n",
    "2. In the dropdown menu, select `Run all`."
   ]
  },
  {
   "cell_type": "code",
   "execution_count": null,
   "metadata": {},
   "outputs": [],
   "source": [
    "!git clone -b demo https://github.com/akameswa/DiffusionDemo\n",
    "!pip install -r DiffusionDemo/requirements.txt -q \n",
    "!python DiffusionDemo/run.py"
   ]
  },
  {
   "cell_type": "markdown",
   "metadata": {},
   "source": [
    "## Viewing demo\n",
    "After running the code, wait for few minutes to see the gradio link (example: `https://a9691b8cc2d0fba1db.gradio.live/`) and click on it."
   ]
  }
 ],
 "metadata": {
  "language_info": {
   "name": "python"
  }
 },
 "nbformat": 4,
 "nbformat_minor": 2
}
