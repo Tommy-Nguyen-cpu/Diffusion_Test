{
 "cells": [
  {
   "cell_type": "code",
   "execution_count": 45,
   "metadata": {},
   "outputs": [],
   "source": [
    "import torch\n",
    "import random\n",
    "import base64\n",
    "import numpy as np\n",
    "import gradio as gr\n",
    "from io import BytesIO\n",
    "import plotly.express as px\n",
    "from threading import Thread\n",
    "from transformers import CLIPTextModel, CLIPTokenizer\n",
    "from dash import Dash, dcc, html, Input, Output, no_update, callback\n",
    "from diffusers import StableDiffusionPipeline, AutoencoderKL, UNet2DConditionModel, LMSDiscreteScheduler\n",
    "\n",
    "np.set_printoptions(linewidth=200)\n",
    "torch_device = \"cuda\" if torch.cuda.is_available() else \"cpu\""
   ]
  },
  {
   "cell_type": "code",
   "execution_count": 46,
   "metadata": {},
   "outputs": [],
   "source": [
    "imageWidth = 512    \n",
    "imageHeight = 512                                         \n",
    "guidance_scale = 8      \n",
    "num_inference_steps = 8                                                       \n",
    "model_path = \"segmind/tiny-sd\" \n",
    "\n",
    "tokenizer = CLIPTokenizer.from_pretrained(\"openai/clip-vit-large-patch14\")\n",
    "text_encoder = CLIPTextModel.from_pretrained(\"openai/clip-vit-large-patch14\").to(torch_device)\n",
    "scheduler = LMSDiscreteScheduler.from_pretrained(model_path, subfolder=\"scheduler\")\n",
    "unet = UNet2DConditionModel.from_pretrained(model_path, subfolder=\"unet\").to(torch_device)\n",
    "vae = AutoencoderKL.from_pretrained(model_path, subfolder=\"vae\").to(torch_device)"
   ]
  },
  {
   "cell_type": "code",
   "execution_count": 47,
   "metadata": {},
   "outputs": [],
   "source": [
    "def get_word_embeddings(prompt, tokenizer=tokenizer, text_encoder=text_encoder, torch_device=torch_device):\n",
    "    text_input = tokenizer(prompt, padding=\"max_length\", max_length=tokenizer.model_max_length, truncation=True, return_tensors=\"pt\").to(torch_device)\n",
    "    \n",
    "    with torch.no_grad():\n",
    "        text_embeddings = text_encoder(text_input.input_ids)[0].reshape(1,-1)   \n",
    "    \n",
    "    text_embeddings = text_embeddings.cpu().numpy()\n",
    "    return text_embeddings/np.linalg.norm(text_embeddings)"
   ]
  },
  {
   "cell_type": "code",
   "execution_count": 48,
   "metadata": {},
   "outputs": [],
   "source": [
    "masculine = [\n",
    "    \"man\",\n",
    "    \"king\",\n",
    "    \"prince\",\n",
    "    \"husband\",\n",
    "    \"father\",\n",
    "]\n",
    "\n",
    "feminine = [\n",
    "    \"woman\",\n",
    "    \"queen\",\n",
    "    \"princess\",\n",
    "    \"wife\",\n",
    "    \"mother\",\n",
    "]\n",
    "\n",
    "young = [\n",
    "    \"man\",\n",
    "    \"woman\",\n",
    "    \"king\",\n",
    "    \"queen\",\n",
    "    \"father\",\n",
    "]\n",
    "\n",
    "old = [\n",
    "    \"boy\",\n",
    "    \"girl\",\n",
    "    \"prince\",\n",
    "    \"princess\",\n",
    "    \"son\",\n",
    "]\n",
    "\n",
    "common = [\n",
    "    \"man\",\n",
    "    \"woman\",\n",
    "    \"boy\",\n",
    "    \"girl\",\n",
    "    \"woman\",\n",
    "]\n",
    "\n",
    "elite = [\n",
    "    \"king\",\n",
    "    \"queen\",\n",
    "    \"prince\",\n",
    "    \"princess\",\n",
    "    \"duchess\",\n",
    "]\n",
    "\n",
    "singular = [\n",
    "    \"boy\",\n",
    "    \"girl\",\n",
    "    \"cat\",\n",
    "    \"puppy\",\n",
    "    \"computer\",\n",
    "]\n",
    "\n",
    "plural = [\n",
    "    \"boys\",\n",
    "    \"girls\",\n",
    "    \"cats\",\n",
    "    \"puppies\",\n",
    "    \"computers\",\n",
    "]\n",
    "\n",
    "examples = [\n",
    "    \"king\", \n",
    "    \"queen\", \n",
    "    \"man\",\n",
    "    \"woman\",\n",
    "    \"boy\",\n",
    "    \"child\",\n",
    "    \"apple\",\n",
    "    \"orange\",\n",
    "]\n",
    "\n",
    "axis_names = [\n",
    "    \"gender\", \n",
    "    \"residual\", \n",
    "    \"age\"\n",
    "]\n",
    "\n",
    "axis_combinations = {\n",
    "    \"age\"       :   young + old,\n",
    "    \"gender\"    :   masculine + feminine,\n",
    "    \"royalty\"   :   common + elite,\n",
    "    \"number\"    :   singular + plural,\n",
    "}\n",
    "\n",
    "axisMap = { \n",
    "    \"X - Axis\": 0,\n",
    "    \"Y - Axis\": 1,\n",
    "    \"Z - Axis\": 2,\n",
    "}\n",
    "\n",
    "__all__ = [\n",
    "    \"axisMap\", \n",
    "    \"axis_names\", \n",
    "    \"axis_combinations\", \n",
    "    \"examples\", \n",
    "    \"masculine\", \n",
    "    \"feminine\", \n",
    "    \"young\", \n",
    "    \"old\", \n",
    "    \"common\", \n",
    "    \"elite\", \n",
    "    \"singular\", \n",
    "    \"plural\"\n",
    "]"
   ]
  },
  {
   "cell_type": "code",
   "execution_count": 49,
   "metadata": {},
   "outputs": [],
   "source": [
    "def get_concat_embeddings(names, merge=False):\n",
    "    embeddings = []\n",
    "\n",
    "    for name in names:\n",
    "        embedding = get_word_embeddings(name)\n",
    "        embeddings.append(embedding)\n",
    "\n",
    "    embeddings = np.vstack(embeddings)\n",
    "    \n",
    "    if merge:\n",
    "        embeddings = np.average(embeddings, axis=0).reshape(1,-1)\n",
    "        \n",
    "    return embeddings"
   ]
  },
  {
   "cell_type": "code",
   "execution_count": 50,
   "metadata": {},
   "outputs": [],
   "source": [
    "def get_axis_embeddings(A, B):\n",
    "    emb = []\n",
    "\n",
    "    for a,b in zip(A,B):\n",
    "        e = get_word_embeddings(a) - get_word_embeddings(b)\n",
    "        emb.append(e)\n",
    "\n",
    "    emb = np.vstack(emb)\n",
    "    ax = np.average(emb, axis=0).reshape(1,-1)\n",
    "\n",
    "    return ax"
   ]
  },
  {
   "cell_type": "code",
   "execution_count": 51,
   "metadata": {},
   "outputs": [],
   "source": [
    "def calculate_residual(axis, axis_names, from_words=None, to_words=None, residual_axis=1):\n",
    "    axis_indices = [0, 1, 2]\n",
    "    axis_indices.remove(residual_axis)\n",
    "    \n",
    "    if axis_names[axis_indices[0]] in axis_combinations:\n",
    "        fembeddings = get_concat_embeddings(axis_combinations[axis_names[axis_indices[0]]], merge=True)\n",
    "    else:\n",
    "        axis_combinations[axis_names[axis_indices[0]]] = from_words + to_words\n",
    "        fembeddings = get_concat_embeddings(from_words + to_words, merge=True)\n",
    "\n",
    "    if axis_names[axis_indices[1]] in axis_combinations:\n",
    "        sembeddings = get_concat_embeddings(axis_combinations[axis_names[axis_indices[1]]], merge=True)\n",
    "    else:\n",
    "        axis_combinations[axis_names[axis_indices[1]]] = from_words + to_words\n",
    "        sembeddings = get_concat_embeddings(from_words + to_words, merge=True)\n",
    "\n",
    "    fprojections = fembeddings @ axis[axis_indices[0]].T\n",
    "    sprojections = sembeddings @ axis[axis_indices[1]].T\n",
    "\n",
    "    partial_residual = fembeddings - (fprojections.reshape(-1,1)*fembeddings)\n",
    "    residual = partial_residual - (sprojections.reshape(-1,1)*sembeddings)\n",
    "\n",
    "    return residual"
   ]
  },
  {
   "cell_type": "code",
   "execution_count": 52,
   "metadata": {},
   "outputs": [],
   "source": [
    "age = get_axis_embeddings(young, old)\n",
    "gender = get_axis_embeddings(masculine, feminine)\n",
    "royalty = get_axis_embeddings(common, elite)"
   ]
  },
  {
   "cell_type": "code",
   "execution_count": 53,
   "metadata": {},
   "outputs": [],
   "source": [
    "pipe = StableDiffusionPipeline(\n",
    "    tokenizer=tokenizer,\n",
    "    text_encoder=text_encoder,\n",
    "    unet=unet,\n",
    "    scheduler=scheduler,\n",
    "    vae=vae,  \n",
    "    safety_checker=None,\n",
    "    feature_extractor=None,\n",
    "    requires_safety_checker=False,\n",
    "    ).to(torch_device)"
   ]
  },
  {
   "cell_type": "code",
   "execution_count": 54,
   "metadata": {},
   "outputs": [
    {
     "data": {
      "application/vnd.jupyter.widget-view+json": {
       "model_id": "45e10ce5b25848989b0172a17b6e4ee0",
       "version_major": 2,
       "version_minor": 0
      },
      "text/plain": [
       "  0%|          | 0/8 [00:00<?, ?it/s]"
      ]
     },
     "metadata": {},
     "output_type": "display_data"
    },
    {
     "data": {
      "application/vnd.jupyter.widget-view+json": {
       "model_id": "a5cb94120960489c924713ad284b633d",
       "version_major": 2,
       "version_minor": 0
      },
      "text/plain": [
       "  0%|          | 0/8 [00:00<?, ?it/s]"
      ]
     },
     "metadata": {},
     "output_type": "display_data"
    },
    {
     "data": {
      "application/vnd.jupyter.widget-view+json": {
       "model_id": "64ee4caf05d44ded960d18407f16117f",
       "version_major": 2,
       "version_minor": 0
      },
      "text/plain": [
       "  0%|          | 0/8 [00:00<?, ?it/s]"
      ]
     },
     "metadata": {},
     "output_type": "display_data"
    },
    {
     "data": {
      "application/vnd.jupyter.widget-view+json": {
       "model_id": "d1c3ede9e31942b5967a7287211d7a43",
       "version_major": 2,
       "version_minor": 0
      },
      "text/plain": [
       "  0%|          | 0/8 [00:00<?, ?it/s]"
      ]
     },
     "metadata": {},
     "output_type": "display_data"
    },
    {
     "data": {
      "application/vnd.jupyter.widget-view+json": {
       "model_id": "ab4c40f8971d45df91837c072471bfc4",
       "version_major": 2,
       "version_minor": 0
      },
      "text/plain": [
       "  0%|          | 0/8 [00:00<?, ?it/s]"
      ]
     },
     "metadata": {},
     "output_type": "display_data"
    },
    {
     "data": {
      "application/vnd.jupyter.widget-view+json": {
       "model_id": "0d6bc80eb01a4640a3eed44ce81cafa0",
       "version_major": 2,
       "version_minor": 0
      },
      "text/plain": [
       "  0%|          | 0/8 [00:00<?, ?it/s]"
      ]
     },
     "metadata": {},
     "output_type": "display_data"
    },
    {
     "data": {
      "application/vnd.jupyter.widget-view+json": {
       "model_id": "9e27c4f14d1b4fb2b4c1a09db88e8338",
       "version_major": 2,
       "version_minor": 0
      },
      "text/plain": [
       "  0%|          | 0/8 [00:00<?, ?it/s]"
      ]
     },
     "metadata": {},
     "output_type": "display_data"
    },
    {
     "data": {
      "application/vnd.jupyter.widget-view+json": {
       "model_id": "88a2dcd4f12f4823bc0d7b09dd414d6d",
       "version_major": 2,
       "version_minor": 0
      },
      "text/plain": [
       "  0%|          | 0/8 [00:00<?, ?it/s]"
      ]
     },
     "metadata": {},
     "output_type": "display_data"
    }
   ],
   "source": [
    "images = []\n",
    "for example in examples:\n",
    "    image = pipe(prompt=example, num_inference_steps=num_inference_steps, guidance_scale=guidance_scale).images[0]\n",
    "    buffer = BytesIO()\n",
    "    image.save(buffer, format='JPEG')\n",
    "    encoded_image = base64.b64encode(buffer.getvalue()).decode('utf-8')\n",
    "    images.append(\"data:image/jpeg;base64, \" + encoded_image)"
   ]
  },
  {
   "cell_type": "code",
   "execution_count": 55,
   "metadata": {},
   "outputs": [],
   "source": [
    "axis = np.vstack([gender, royalty, age])\n",
    "axis[1] = calculate_residual(axis, axis_names)\n",
    "\n",
    "coords = get_concat_embeddings(examples) @ axis.T\n",
    "coords[:, 1] = 5*(1.0 - coords[:, 1])"
   ]
  },
  {
   "cell_type": "code",
   "execution_count": 56,
   "metadata": {},
   "outputs": [],
   "source": [
    "def update_fig():\n",
    "    global coords, examples, fig\n",
    "    fig.data[0].x = coords[:,0]\n",
    "    fig.data[0].y = coords[:,1]\n",
    "    fig.data[0].z = coords[:,2]\n",
    "    fig.data[0].text = examples\n",
    "    \n",
    "    return (f'''\n",
    "            <script>\n",
    "                document.getElementById(\"html\").src += \"?rand={random.random()}\"\n",
    "            </script>\n",
    "            <iframe id=\"html\" src=\"http://127.0.0.1:8000/\" style=\"width:100%; height:750px;\"></iframe>\n",
    "            ''')"
   ]
  },
  {
   "cell_type": "code",
   "execution_count": 57,
   "metadata": {},
   "outputs": [],
   "source": [
    "def add_word(new_example):\n",
    "    global coords, images, examples\n",
    "    new_coord = get_concat_embeddings([new_example]) @ axis.T\n",
    "    new_coord[:, 1] = 5*(1.0 - new_coord[:, 1])\n",
    "    coords = np.vstack([coords, new_coord])\n",
    "\n",
    "    image = pipe(prompt=new_example, num_inference_steps=num_inference_steps, guidance_scale=guidance_scale).images[0]\n",
    "    buffer = BytesIO()\n",
    "    image.save(buffer, format='JPEG')\n",
    "    encoded_image = base64.b64encode(buffer.getvalue()).decode('utf-8')\n",
    "    images.append(\"data:image/jpeg;base64, \" + encoded_image)\n",
    "    examples.append(new_example)\n",
    "    return update_fig()"
   ]
  },
  {
   "cell_type": "code",
   "execution_count": 58,
   "metadata": {},
   "outputs": [],
   "source": [
    "def remove_word(new_example):\n",
    "    global coords, images, examples\n",
    "    examplesMap = { example: index for index, example in enumerate(examples) }\n",
    "    index = examplesMap[new_example]\n",
    "    \n",
    "    coords = np.delete(coords, index, 0)\n",
    "    images.pop(index)\n",
    "    examples.pop(index)\n",
    "    return update_fig()"
   ]
  },
  {
   "cell_type": "code",
   "execution_count": 59,
   "metadata": {},
   "outputs": [],
   "source": [
    "def add_rem_word(new_examples):\n",
    "    global examples\n",
    "    new_examples = new_examples.split()\n",
    "\n",
    "    for new_example in new_examples:\n",
    "        if new_example in examples:\n",
    "            remove_word(new_example)\n",
    "            gr.Info(\"Removed {}\".format(new_example))\n",
    "        else:\n",
    "            add_word(new_example)\n",
    "            gr.Info(\"Added {}\".format(new_example))\n",
    "\n",
    "    return update_fig()"
   ]
  },
  {
   "cell_type": "code",
   "execution_count": 60,
   "metadata": {},
   "outputs": [],
   "source": [
    "def set_axis(axis_name, which_axis, from_words, to_words):\n",
    "    global coords, examples, fig, axis_names\n",
    "\n",
    "    if axis_name != \"residual\":\n",
    "        from_words, to_words = from_words.split(), to_words.split()\n",
    "        axis_emb = get_axis_embeddings(from_words, to_words)\n",
    "        axis[axisMap[which_axis]] = axis_emb\n",
    "        axis_names[axisMap[which_axis]] = axis_name\n",
    "\n",
    "        for i, name in enumerate(axis_names):\n",
    "            if name == \"residual\":\n",
    "                axis[i] = calculate_residual(axis, axis_names, from_words, to_words, i)\n",
    "                axis_names[i] = \"residual\"\n",
    "    else:\n",
    "        residual = calculate_residual(axis, axis_names, residual_axis=axisMap[which_axis])\n",
    "        axis[axisMap[which_axis]] = residual\n",
    "        axis_names[axisMap[which_axis]] = axis_name\n",
    "\n",
    "    coords = get_concat_embeddings(examples) @ axis.T\n",
    "    coords[:, 1] = 5*(1.0 - coords[:, 1])\n",
    "\n",
    "    fig.update_layout(\n",
    "        scene = dict(\n",
    "            xaxis_title = axis_names[0],\n",
    "            yaxis_title = axis_names[1],\n",
    "            zaxis_title = axis_names[2],\n",
    "        )\n",
    "    )\n",
    "    return update_fig()"
   ]
  },
  {
   "cell_type": "code",
   "execution_count": 61,
   "metadata": {},
   "outputs": [],
   "source": [
    "def change_word(example):\n",
    "    remove_word(example)\n",
    "    add_word(example)\n",
    "    return update_fig()\n",
    "\n",
    "def clear_words():\n",
    "    while examples:\n",
    "        remove_word(examples[-1])\n",
    "    return update_fig()"
   ]
  },
  {
   "cell_type": "code",
   "execution_count": 62,
   "metadata": {},
   "outputs": [
    {
     "data": {
      "application/vnd.plotly.v1+json": {
       "config": {
        "plotlyServerURL": "https://plot.ly"
       },
       "data": [
        {
         "hoverinfo": "none",
         "legendgroup": "",
         "marker": {
          "color": "#636efa",
          "symbol": "circle"
         },
         "mode": "markers+text",
         "name": "",
         "scene": "scene",
         "showlegend": false,
         "text": [
          "king",
          "queen",
          "man",
          "woman",
          "boy",
          "child",
          "apple",
          "orange"
         ],
         "type": "scatter3d",
         "x": [
          0.06891518,
          -0.09486384,
          0.08701158,
          -0.11131697,
          0.07099577,
          0.008154945,
          0.0053391135,
          0.005898463
         ],
         "y": [
          1.1511111,
          1.2075424,
          1.2250465,
          1.2923712,
          1.4066563,
          1.3763559,
          1.8764315,
          1.9494262
         ],
         "z": [
          0.054163814,
          0.055789012,
          0.019856766,
          0.06535601,
          -0.070710264,
          -0.031207284,
          -0.024149328,
          -0.020364769
         ]
        }
       ],
       "layout": {
        "height": 750,
        "legend": {
         "tracegroupgap": 0
        },
        "margin": {
         "b": 0,
         "l": 0,
         "r": 0,
         "t": 0
        },
        "scene": {
         "camera": {
          "eye": {
           "x": 2,
           "y": 2,
           "z": 0.1
          }
         },
         "domain": {
          "x": [
           0,
           1
          ],
          "y": [
           0,
           1
          ]
         },
         "xaxis": {
          "title": {
           "text": "gender"
          }
         },
         "yaxis": {
          "title": {
           "text": "residual"
          }
         },
         "zaxis": {
          "title": {
           "text": "age"
          }
         }
        },
        "template": {
         "data": {
          "bar": [
           {
            "error_x": {
             "color": "#2a3f5f"
            },
            "error_y": {
             "color": "#2a3f5f"
            },
            "marker": {
             "line": {
              "color": "#E5ECF6",
              "width": 0.5
             },
             "pattern": {
              "fillmode": "overlay",
              "size": 10,
              "solidity": 0.2
             }
            },
            "type": "bar"
           }
          ],
          "barpolar": [
           {
            "marker": {
             "line": {
              "color": "#E5ECF6",
              "width": 0.5
             },
             "pattern": {
              "fillmode": "overlay",
              "size": 10,
              "solidity": 0.2
             }
            },
            "type": "barpolar"
           }
          ],
          "carpet": [
           {
            "aaxis": {
             "endlinecolor": "#2a3f5f",
             "gridcolor": "white",
             "linecolor": "white",
             "minorgridcolor": "white",
             "startlinecolor": "#2a3f5f"
            },
            "baxis": {
             "endlinecolor": "#2a3f5f",
             "gridcolor": "white",
             "linecolor": "white",
             "minorgridcolor": "white",
             "startlinecolor": "#2a3f5f"
            },
            "type": "carpet"
           }
          ],
          "choropleth": [
           {
            "colorbar": {
             "outlinewidth": 0,
             "ticks": ""
            },
            "type": "choropleth"
           }
          ],
          "contour": [
           {
            "colorbar": {
             "outlinewidth": 0,
             "ticks": ""
            },
            "colorscale": [
             [
              0,
              "#0d0887"
             ],
             [
              0.1111111111111111,
              "#46039f"
             ],
             [
              0.2222222222222222,
              "#7201a8"
             ],
             [
              0.3333333333333333,
              "#9c179e"
             ],
             [
              0.4444444444444444,
              "#bd3786"
             ],
             [
              0.5555555555555556,
              "#d8576b"
             ],
             [
              0.6666666666666666,
              "#ed7953"
             ],
             [
              0.7777777777777778,
              "#fb9f3a"
             ],
             [
              0.8888888888888888,
              "#fdca26"
             ],
             [
              1,
              "#f0f921"
             ]
            ],
            "type": "contour"
           }
          ],
          "contourcarpet": [
           {
            "colorbar": {
             "outlinewidth": 0,
             "ticks": ""
            },
            "type": "contourcarpet"
           }
          ],
          "heatmap": [
           {
            "colorbar": {
             "outlinewidth": 0,
             "ticks": ""
            },
            "colorscale": [
             [
              0,
              "#0d0887"
             ],
             [
              0.1111111111111111,
              "#46039f"
             ],
             [
              0.2222222222222222,
              "#7201a8"
             ],
             [
              0.3333333333333333,
              "#9c179e"
             ],
             [
              0.4444444444444444,
              "#bd3786"
             ],
             [
              0.5555555555555556,
              "#d8576b"
             ],
             [
              0.6666666666666666,
              "#ed7953"
             ],
             [
              0.7777777777777778,
              "#fb9f3a"
             ],
             [
              0.8888888888888888,
              "#fdca26"
             ],
             [
              1,
              "#f0f921"
             ]
            ],
            "type": "heatmap"
           }
          ],
          "heatmapgl": [
           {
            "colorbar": {
             "outlinewidth": 0,
             "ticks": ""
            },
            "colorscale": [
             [
              0,
              "#0d0887"
             ],
             [
              0.1111111111111111,
              "#46039f"
             ],
             [
              0.2222222222222222,
              "#7201a8"
             ],
             [
              0.3333333333333333,
              "#9c179e"
             ],
             [
              0.4444444444444444,
              "#bd3786"
             ],
             [
              0.5555555555555556,
              "#d8576b"
             ],
             [
              0.6666666666666666,
              "#ed7953"
             ],
             [
              0.7777777777777778,
              "#fb9f3a"
             ],
             [
              0.8888888888888888,
              "#fdca26"
             ],
             [
              1,
              "#f0f921"
             ]
            ],
            "type": "heatmapgl"
           }
          ],
          "histogram": [
           {
            "marker": {
             "pattern": {
              "fillmode": "overlay",
              "size": 10,
              "solidity": 0.2
             }
            },
            "type": "histogram"
           }
          ],
          "histogram2d": [
           {
            "colorbar": {
             "outlinewidth": 0,
             "ticks": ""
            },
            "colorscale": [
             [
              0,
              "#0d0887"
             ],
             [
              0.1111111111111111,
              "#46039f"
             ],
             [
              0.2222222222222222,
              "#7201a8"
             ],
             [
              0.3333333333333333,
              "#9c179e"
             ],
             [
              0.4444444444444444,
              "#bd3786"
             ],
             [
              0.5555555555555556,
              "#d8576b"
             ],
             [
              0.6666666666666666,
              "#ed7953"
             ],
             [
              0.7777777777777778,
              "#fb9f3a"
             ],
             [
              0.8888888888888888,
              "#fdca26"
             ],
             [
              1,
              "#f0f921"
             ]
            ],
            "type": "histogram2d"
           }
          ],
          "histogram2dcontour": [
           {
            "colorbar": {
             "outlinewidth": 0,
             "ticks": ""
            },
            "colorscale": [
             [
              0,
              "#0d0887"
             ],
             [
              0.1111111111111111,
              "#46039f"
             ],
             [
              0.2222222222222222,
              "#7201a8"
             ],
             [
              0.3333333333333333,
              "#9c179e"
             ],
             [
              0.4444444444444444,
              "#bd3786"
             ],
             [
              0.5555555555555556,
              "#d8576b"
             ],
             [
              0.6666666666666666,
              "#ed7953"
             ],
             [
              0.7777777777777778,
              "#fb9f3a"
             ],
             [
              0.8888888888888888,
              "#fdca26"
             ],
             [
              1,
              "#f0f921"
             ]
            ],
            "type": "histogram2dcontour"
           }
          ],
          "mesh3d": [
           {
            "colorbar": {
             "outlinewidth": 0,
             "ticks": ""
            },
            "type": "mesh3d"
           }
          ],
          "parcoords": [
           {
            "line": {
             "colorbar": {
              "outlinewidth": 0,
              "ticks": ""
             }
            },
            "type": "parcoords"
           }
          ],
          "pie": [
           {
            "automargin": true,
            "type": "pie"
           }
          ],
          "scatter": [
           {
            "fillpattern": {
             "fillmode": "overlay",
             "size": 10,
             "solidity": 0.2
            },
            "type": "scatter"
           }
          ],
          "scatter3d": [
           {
            "line": {
             "colorbar": {
              "outlinewidth": 0,
              "ticks": ""
             }
            },
            "marker": {
             "colorbar": {
              "outlinewidth": 0,
              "ticks": ""
             }
            },
            "type": "scatter3d"
           }
          ],
          "scattercarpet": [
           {
            "marker": {
             "colorbar": {
              "outlinewidth": 0,
              "ticks": ""
             }
            },
            "type": "scattercarpet"
           }
          ],
          "scattergeo": [
           {
            "marker": {
             "colorbar": {
              "outlinewidth": 0,
              "ticks": ""
             }
            },
            "type": "scattergeo"
           }
          ],
          "scattergl": [
           {
            "marker": {
             "colorbar": {
              "outlinewidth": 0,
              "ticks": ""
             }
            },
            "type": "scattergl"
           }
          ],
          "scattermapbox": [
           {
            "marker": {
             "colorbar": {
              "outlinewidth": 0,
              "ticks": ""
             }
            },
            "type": "scattermapbox"
           }
          ],
          "scatterpolar": [
           {
            "marker": {
             "colorbar": {
              "outlinewidth": 0,
              "ticks": ""
             }
            },
            "type": "scatterpolar"
           }
          ],
          "scatterpolargl": [
           {
            "marker": {
             "colorbar": {
              "outlinewidth": 0,
              "ticks": ""
             }
            },
            "type": "scatterpolargl"
           }
          ],
          "scatterternary": [
           {
            "marker": {
             "colorbar": {
              "outlinewidth": 0,
              "ticks": ""
             }
            },
            "type": "scatterternary"
           }
          ],
          "surface": [
           {
            "colorbar": {
             "outlinewidth": 0,
             "ticks": ""
            },
            "colorscale": [
             [
              0,
              "#0d0887"
             ],
             [
              0.1111111111111111,
              "#46039f"
             ],
             [
              0.2222222222222222,
              "#7201a8"
             ],
             [
              0.3333333333333333,
              "#9c179e"
             ],
             [
              0.4444444444444444,
              "#bd3786"
             ],
             [
              0.5555555555555556,
              "#d8576b"
             ],
             [
              0.6666666666666666,
              "#ed7953"
             ],
             [
              0.7777777777777778,
              "#fb9f3a"
             ],
             [
              0.8888888888888888,
              "#fdca26"
             ],
             [
              1,
              "#f0f921"
             ]
            ],
            "type": "surface"
           }
          ],
          "table": [
           {
            "cells": {
             "fill": {
              "color": "#EBF0F8"
             },
             "line": {
              "color": "white"
             }
            },
            "header": {
             "fill": {
              "color": "#C8D4E3"
             },
             "line": {
              "color": "white"
             }
            },
            "type": "table"
           }
          ]
         },
         "layout": {
          "annotationdefaults": {
           "arrowcolor": "#2a3f5f",
           "arrowhead": 0,
           "arrowwidth": 1
          },
          "autotypenumbers": "strict",
          "coloraxis": {
           "colorbar": {
            "outlinewidth": 0,
            "ticks": ""
           }
          },
          "colorscale": {
           "diverging": [
            [
             0,
             "#8e0152"
            ],
            [
             0.1,
             "#c51b7d"
            ],
            [
             0.2,
             "#de77ae"
            ],
            [
             0.3,
             "#f1b6da"
            ],
            [
             0.4,
             "#fde0ef"
            ],
            [
             0.5,
             "#f7f7f7"
            ],
            [
             0.6,
             "#e6f5d0"
            ],
            [
             0.7,
             "#b8e186"
            ],
            [
             0.8,
             "#7fbc41"
            ],
            [
             0.9,
             "#4d9221"
            ],
            [
             1,
             "#276419"
            ]
           ],
           "sequential": [
            [
             0,
             "#0d0887"
            ],
            [
             0.1111111111111111,
             "#46039f"
            ],
            [
             0.2222222222222222,
             "#7201a8"
            ],
            [
             0.3333333333333333,
             "#9c179e"
            ],
            [
             0.4444444444444444,
             "#bd3786"
            ],
            [
             0.5555555555555556,
             "#d8576b"
            ],
            [
             0.6666666666666666,
             "#ed7953"
            ],
            [
             0.7777777777777778,
             "#fb9f3a"
            ],
            [
             0.8888888888888888,
             "#fdca26"
            ],
            [
             1,
             "#f0f921"
            ]
           ],
           "sequentialminus": [
            [
             0,
             "#0d0887"
            ],
            [
             0.1111111111111111,
             "#46039f"
            ],
            [
             0.2222222222222222,
             "#7201a8"
            ],
            [
             0.3333333333333333,
             "#9c179e"
            ],
            [
             0.4444444444444444,
             "#bd3786"
            ],
            [
             0.5555555555555556,
             "#d8576b"
            ],
            [
             0.6666666666666666,
             "#ed7953"
            ],
            [
             0.7777777777777778,
             "#fb9f3a"
            ],
            [
             0.8888888888888888,
             "#fdca26"
            ],
            [
             1,
             "#f0f921"
            ]
           ]
          },
          "colorway": [
           "#636efa",
           "#EF553B",
           "#00cc96",
           "#ab63fa",
           "#FFA15A",
           "#19d3f3",
           "#FF6692",
           "#B6E880",
           "#FF97FF",
           "#FECB52"
          ],
          "font": {
           "color": "#2a3f5f"
          },
          "geo": {
           "bgcolor": "white",
           "lakecolor": "white",
           "landcolor": "#E5ECF6",
           "showlakes": true,
           "showland": true,
           "subunitcolor": "white"
          },
          "hoverlabel": {
           "align": "left"
          },
          "hovermode": "closest",
          "mapbox": {
           "style": "light"
          },
          "paper_bgcolor": "white",
          "plot_bgcolor": "#E5ECF6",
          "polar": {
           "angularaxis": {
            "gridcolor": "white",
            "linecolor": "white",
            "ticks": ""
           },
           "bgcolor": "#E5ECF6",
           "radialaxis": {
            "gridcolor": "white",
            "linecolor": "white",
            "ticks": ""
           }
          },
          "scene": {
           "xaxis": {
            "backgroundcolor": "#E5ECF6",
            "gridcolor": "white",
            "gridwidth": 2,
            "linecolor": "white",
            "showbackground": true,
            "ticks": "",
            "zerolinecolor": "white"
           },
           "yaxis": {
            "backgroundcolor": "#E5ECF6",
            "gridcolor": "white",
            "gridwidth": 2,
            "linecolor": "white",
            "showbackground": true,
            "ticks": "",
            "zerolinecolor": "white"
           },
           "zaxis": {
            "backgroundcolor": "#E5ECF6",
            "gridcolor": "white",
            "gridwidth": 2,
            "linecolor": "white",
            "showbackground": true,
            "ticks": "",
            "zerolinecolor": "white"
           }
          },
          "shapedefaults": {
           "line": {
            "color": "#2a3f5f"
           }
          },
          "ternary": {
           "aaxis": {
            "gridcolor": "white",
            "linecolor": "white",
            "ticks": ""
           },
           "baxis": {
            "gridcolor": "white",
            "linecolor": "white",
            "ticks": ""
           },
           "bgcolor": "#E5ECF6",
           "caxis": {
            "gridcolor": "white",
            "linecolor": "white",
            "ticks": ""
           }
          },
          "title": {
           "x": 0.05
          },
          "xaxis": {
           "automargin": true,
           "gridcolor": "white",
           "linecolor": "white",
           "ticks": "",
           "title": {
            "standoff": 15
           },
           "zerolinecolor": "white",
           "zerolinewidth": 2
          },
          "yaxis": {
           "automargin": true,
           "gridcolor": "white",
           "linecolor": "white",
           "ticks": "",
           "title": {
            "standoff": 15
           },
           "zerolinecolor": "white",
           "zerolinewidth": 2
          }
         }
        }
       }
      }
     },
     "metadata": {},
     "output_type": "display_data"
    }
   ],
   "source": [
    "fig = px.scatter_3d(\n",
    "                    x=coords[:,0], \n",
    "                    y=coords[:,1], \n",
    "                    z=coords[:,2], \n",
    "                    labels={\n",
    "                            \"x\":axis_names[0],\n",
    "                            \"y\":axis_names[1],\n",
    "                            \"z\":axis_names[2],\n",
    "                            },\n",
    "                    text=examples,\n",
    "                    height=750,\n",
    "        )\n",
    "\n",
    "fig.update_layout(\n",
    "    margin=dict(l=0, r=0, b=0, t=0),\n",
    "    scene_camera = dict(\n",
    "        eye=dict(x=2, y=2, z=0.1)\n",
    "    )\n",
    ")\n",
    "\n",
    "fig.update_traces(hoverinfo=\"none\", hovertemplate=None)"
   ]
  },
  {
   "cell_type": "code",
   "execution_count": 63,
   "metadata": {},
   "outputs": [],
   "source": [
    "app = Dash(__name__)\n",
    "\n",
    "app.layout = html.Div(\n",
    "    className=\"container\",\n",
    "    children=[\n",
    "        dcc.Graph(id=\"graph\", figure=fig, clear_on_unhover=True),\n",
    "        dcc.Tooltip(id=\"tooltip\"),\n",
    "    ],\n",
    ")\n",
    "\n",
    "@callback(\n",
    "    Output(\"tooltip\", \"show\"),\n",
    "    Output(\"tooltip\", \"bbox\"),\n",
    "    Output(\"tooltip\", \"children\"),\n",
    "    Output(\"tooltip\", \"direction\"),\n",
    "\n",
    "    Input(\"graph\", \"hoverData\"),\n",
    ")\n",
    "def display_hover(hoverData):\n",
    "    if hoverData is None:\n",
    "        return False, no_update, no_update, no_update\n",
    "\n",
    "    hover_data = hoverData[\"points\"][0]\n",
    "    bbox = hover_data[\"bbox\"]\n",
    "    direction = \"left\"\n",
    "    index = hover_data['pointNumber']\n",
    "    \n",
    "    children = [\n",
    "        html.Img(\n",
    "            src=images[index],\n",
    "            style={\"width\": \"150px\"},\n",
    "        ),\n",
    "    ]\n",
    "\n",
    "    return True, bbox, children, direction"
   ]
  },
  {
   "cell_type": "code",
   "execution_count": 64,
   "metadata": {},
   "outputs": [],
   "source": [
    "with gr.Blocks() as demo:\n",
    "    gr.Markdown(\"## Stable Diffusion Demo\")\n",
    "    with gr.Tab(\"CLIP\"):\n",
    "        with gr.Row():\n",
    "            output = gr.HTML(f'''\n",
    "                    <iframe id=\"html\" src=\"http://127.0.0.1:8000/\" style=\"width:100%; height:750px;\"></iframe>\n",
    "                    ''')\n",
    "        with gr.Row():\n",
    "            clear_words_button = gr.Button(value=\"Clear words\")\n",
    "        with gr.Row():\n",
    "            word2add_rem = gr.Textbox(lines=1, label=\"Add/Remove word\")\n",
    "            word2change = gr.Textbox(lines=1, label=\"Change image for word\")\n",
    "        with gr.Row():\n",
    "            add_rem_word_button = gr.Button(value=\"Add/Remove\")\n",
    "            change_word_button = gr.Button(value=\"Change\")\n",
    "        with gr.Accordion(\"Custom Semantic Dimensions\", open=False):\n",
    "            with gr.Accordion(\"Built-In Dimension 1\"):\n",
    "                with gr.Row():\n",
    "                    axis_name_1 = gr.Textbox(label=\"Axis name\", value=\"gender\")\n",
    "                    which_axis_1 = gr.Dropdown(choices=[\"X - Axis\", \"Y - Axis\", \"Z - Axis\"], value=\"X - Axis\", label=\"Axis direction\")\n",
    "                with gr.Row():\n",
    "                    set_axis_button_1 = gr.Button(value=\"Submit\")\n",
    "                with gr.Accordion(\"Words\", open=False):\n",
    "                    with gr.Row():\n",
    "                        from_words_1 = gr.Textbox(lines=1, label=\"\", value=\"prince husband father son uncle\")\n",
    "                        to_words_1 = gr.Textbox(lines=1, label=\"\", value=\"princess wife mother daughter aunt\")\n",
    "            with gr.Accordion(\"Built-In Dimension 2\"):\n",
    "                with gr.Row():\n",
    "                    axis_name_2 = gr.Textbox(label=\"Axis name\", value=\"number\")\n",
    "                    which_axis_2 = gr.Dropdown(choices=[\"X - Axis\", \"Y - Axis\", \"Z - Axis\"], value=\"Z - Axis\", label=\"Axis direction\")\n",
    "                with gr.Row():\n",
    "                    set_axis_button_2 = gr.Button(value=\"Submit\")\n",
    "                with gr.Accordion(\"Words\", open=False):\n",
    "                    with gr.Row():\n",
    "                        from_words_2 = gr.Textbox(lines=1, label=\"\", value=\"boys girls cats puppies computers\")\n",
    "                        to_words_2 = gr.Textbox(lines=1, label=\"\", value=\"boy girl cat puppy computer\")\n",
    "            with gr.Accordion(\"Built-In Dimension 3\"):\n",
    "                with gr.Row():\n",
    "                    axis_name_3 = gr.Textbox(label=\"Axis name\", value=\"age\")\n",
    "                    which_axis_3 = gr.Dropdown(choices=[\"X - Axis\", \"Y - Axis\", \"Z - Axis\"], label=\"Axis direction\")\n",
    "                with gr.Row():\n",
    "                    set_axis_button_3 = gr.Button(value=\"Submit\")\n",
    "                with gr.Accordion(\"Words\", open=False):\n",
    "                    with gr.Row():\n",
    "                        from_words_3 = gr.Textbox(lines=1, label=\"\", value=\"man woman king queen father\")\n",
    "                        to_words_3 = gr.Textbox(lines=1, label=\"\", value=\"boy girl prince princess son\")\n",
    "            with gr.Accordion(\"Built-In Dimension 4\"):\n",
    "                with gr.Row():\n",
    "                    axis_name_4 = gr.Textbox(label=\"Axis name\", value=\"royalty\")\n",
    "                    which_axis_4 = gr.Dropdown(choices=[\"X - Axis\", \"Y - Axis\", \"Z - Axis\"], label=\"Axis direction\")\n",
    "                with gr.Row():\n",
    "                    set_axis_button_4 = gr.Button(value=\"Submit\")\n",
    "                with gr.Accordion(\"Words\", open=False):\n",
    "                    with gr.Row():\n",
    "                        from_words_4 = gr.Textbox(lines=1, label=\"\", value=\"king queen prince princess woman\")\n",
    "                        to_words_4 = gr.Textbox(lines=1, label=\"\", value=\"man woman boy girl duchess\")\n",
    "            with gr.Accordion(\"Built-In Dimension 5\"):\n",
    "                with gr.Row():\n",
    "                    axis_name_5 = gr.Textbox(label=\"Axis name\", value=\"\")\n",
    "                    which_axis_5 = gr.Dropdown(choices=[\"X - Axis\", \"Y - Axis\", \"Z - Axis\"], label=\"Axis direction\")\n",
    "                with gr.Row():\n",
    "                    set_axis_button_5 = gr.Button(value=\"Submit\")\n",
    "                with gr.Accordion(\"Words\", open=False):\n",
    "                    with gr.Row():\n",
    "                        from_words_5 = gr.Textbox(lines=1, label=\"\")\n",
    "                        to_words_5 = gr.Textbox(lines=1, label=\"\")\n",
    "\n",
    "    \n",
    "    add_rem_word_button.click(fn=add_rem_word, inputs=[word2add_rem], outputs=[output])\n",
    "    change_word_button.click(fn=change_word, inputs=[word2change], outputs=[output])\n",
    "    clear_words_button.click(fn=clear_words, outputs=[output])\n",
    "    \n",
    "    set_axis_button_1.click(fn=set_axis, inputs=[axis_name_1, which_axis_1, from_words_1, to_words_1], outputs=[output])\n",
    "    set_axis_button_2.click(fn=set_axis, inputs=[axis_name_2, which_axis_2, from_words_2, to_words_2], outputs=[output])\n",
    "    set_axis_button_3.click(fn=set_axis, inputs=[axis_name_3, which_axis_3, from_words_3, to_words_3], outputs=[output])\n",
    "    set_axis_button_4.click(fn=set_axis, inputs=[axis_name_4, which_axis_4, from_words_4, to_words_4], outputs=[output])\n",
    "    set_axis_button_5.click(fn=set_axis, inputs=[axis_name_5, which_axis_5, from_words_5, to_words_5], outputs=[output])\n"
   ]
  },
  {
   "cell_type": "code",
   "execution_count": 65,
   "metadata": {},
   "outputs": [
    {
     "name": "stdout",
     "output_type": "stream",
     "text": [
      "Running on local URL:  http://127.0.0.1:7862\n",
      "\n",
      "To create a public link, set `share=True` in `launch()`.\n"
     ]
    },
    {
     "data": {
      "text/html": [
       "<div><iframe src=\"http://127.0.0.1:7862/\" width=\"100%\" height=\"500\" allow=\"autoplay; camera; microphone; clipboard-read; clipboard-write;\" frameborder=\"0\" allowfullscreen></iframe></div>"
      ],
      "text/plain": [
       "<IPython.core.display.HTML object>"
      ]
     },
     "metadata": {},
     "output_type": "display_data"
    },
    {
     "data": {
      "text/html": [
       "\n",
       "        <iframe\n",
       "            width=\"100%\"\n",
       "            height=\"650\"\n",
       "            src=\"http://127.0.0.1:8000/\"\n",
       "            frameborder=\"0\"\n",
       "            allowfullscreen\n",
       "            \n",
       "        ></iframe>\n",
       "        "
      ],
      "text/plain": [
       "<IPython.lib.display.IFrame at 0x21a547a1570>"
      ]
     },
     "metadata": {},
     "output_type": "display_data"
    }
   ],
   "source": [
    "def run_dash():\n",
    "    app.run(host=\"127.0.0.1\", port=\"8000\")\n",
    "\n",
    "def run_gradio():\n",
    "    demo.queue()\n",
    "    demo.launch()\n",
    "\n",
    "if __name__ == \"__main__\":\n",
    "    Thread(target=run_dash).start()\n",
    "    run_gradio()"
   ]
  }
 ],
 "metadata": {
  "kernelspec": {
   "display_name": "lora",
   "language": "python",
   "name": "python3"
  },
  "language_info": {
   "codemirror_mode": {
    "name": "ipython",
    "version": 3
   },
   "file_extension": ".py",
   "mimetype": "text/x-python",
   "name": "python",
   "nbconvert_exporter": "python",
   "pygments_lexer": "ipython3",
   "version": "3.10.13"
  }
 },
 "nbformat": 4,
 "nbformat_minor": 2
}
